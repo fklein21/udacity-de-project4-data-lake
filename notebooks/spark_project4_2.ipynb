{
 "cells": [
  {
   "cell_type": "code",
   "execution_count": 1,
   "id": "ab12eb1f-2192-4792-bccb-db2d0fab7746",
   "metadata": {
    "execution": {
     "iopub.execute_input": "2022-12-26T00:53:26.428197Z",
     "iopub.status.busy": "2022-12-26T00:53:26.427515Z",
     "iopub.status.idle": "2022-12-26T00:53:59.949369Z",
     "shell.execute_reply": "2022-12-26T00:53:59.948231Z",
     "shell.execute_reply.started": "2022-12-26T00:53:26.428150Z"
    },
    "tags": []
   },
   "outputs": [
    {
     "data": {
      "application/vnd.jupyter.widget-view+json": {
       "model_id": "575076b59f484bfb9c9ae9e74622d305",
       "version_major": 2,
       "version_minor": 0
      },
      "text/plain": [
       "VBox()"
      ]
     },
     "metadata": {},
     "output_type": "display_data"
    },
    {
     "name": "stdout",
     "output_type": "stream",
     "text": [
      "Starting Spark application\n"
     ]
    },
    {
     "data": {
      "text/html": [
       "<table>\n",
       "<tr><th>ID</th><th>YARN Application ID</th><th>Kind</th><th>State</th><th>Spark UI</th><th>Driver log</th><th>Current session?</th></tr><tr><td>3</td><td>application_1671988735950_0004</td><td>pyspark</td><td>idle</td><td><a target=\"_blank\" href=\"http://ip-172-31-22-55.ec2.internal:20888/proxy/application_1671988735950_0004/\">Link</a></td><td><a target=\"_blank\" href=\"http://ip-172-31-20-77.ec2.internal:8042/node/containerlogs/container_1671988735950_0004_01_000001/livy\">Link</a></td><td>✔</td></tr></table>"
      ],
      "text/plain": [
       "<IPython.core.display.HTML object>"
      ]
     },
     "metadata": {},
     "output_type": "display_data"
    },
    {
     "data": {
      "application/vnd.jupyter.widget-view+json": {
       "model_id": "",
       "version_major": 2,
       "version_minor": 0
      },
      "text/plain": [
       "FloatProgress(value=0.0, bar_style='info', description='Progress:', layout=Layout(height='25px', width='50%'),…"
      ]
     },
     "metadata": {},
     "output_type": "display_data"
    },
    {
     "name": "stdout",
     "output_type": "stream",
     "text": [
      "SparkSession available as 'spark'.\n"
     ]
    },
    {
     "data": {
      "application/vnd.jupyter.widget-view+json": {
       "model_id": "",
       "version_major": 2,
       "version_minor": 0
      },
      "text/plain": [
       "FloatProgress(value=0.0, bar_style='info', description='Progress:', layout=Layout(height='25px', width='50%'),…"
      ]
     },
     "metadata": {},
     "output_type": "display_data"
    }
   ],
   "source": [
    "import configparser\n",
    "from datetime import datetime\n",
    "import os\n",
    "from pyspark.sql import SparkSession\n",
    "from pyspark.sql import functions as F\n",
    "from pyspark.sql.functions import udf, col\n",
    "from pyspark.sql.functions import year, month, dayofmonth, hour, weekofyear, date_format\n",
    "\n",
    "import os\n",
    "import glob\n",
    "import shutil\n",
    "\n",
    "# import pandas as pd\n",
    "# pd.set_option('display.max_rows', 500)\n",
    "# pd.set_option('display.max_columns', 500)\n",
    "# pd.set_option('display.width', 1000)"
   ]
  },
  {
   "cell_type": "code",
   "execution_count": 2,
   "id": "d0d4e593-d610-48cc-885c-ee7e14086172",
   "metadata": {
    "execution": {
     "iopub.execute_input": "2022-12-26T00:53:59.957685Z",
     "iopub.status.busy": "2022-12-26T00:53:59.956642Z",
     "iopub.status.idle": "2022-12-26T00:54:00.320649Z",
     "shell.execute_reply": "2022-12-26T00:54:00.319485Z",
     "shell.execute_reply.started": "2022-12-26T00:53:59.957645Z"
    },
    "tags": []
   },
   "outputs": [
    {
     "data": {
      "application/vnd.jupyter.widget-view+json": {
       "model_id": "702841d5b07e4deabf8f92e78da4e1ad",
       "version_major": 2,
       "version_minor": 0
      },
      "text/plain": [
       "VBox()"
      ]
     },
     "metadata": {},
     "output_type": "display_data"
    },
    {
     "data": {
      "application/vnd.jupyter.widget-view+json": {
       "model_id": "",
       "version_major": 2,
       "version_minor": 0
      },
      "text/plain": [
       "FloatProgress(value=0.0, bar_style='info', description='Progress:', layout=Layout(height='25px', width='50%'),…"
      ]
     },
     "metadata": {},
     "output_type": "display_data"
    }
   ],
   "source": [
    "def create_spark_session():\n",
    "    spark = SparkSession \\\n",
    "        .builder \\\n",
    "        .config(\"spark.jars.packages\", \"org.apache.hadoop:hadoop-aws:2.7.0\") \\\n",
    "        .getOrCreate()\n",
    "    return spark"
   ]
  },
  {
   "cell_type": "code",
   "execution_count": 3,
   "id": "9838d338-39ec-40f1-9a4b-e060f69761fd",
   "metadata": {
    "execution": {
     "iopub.execute_input": "2022-12-26T00:54:00.322914Z",
     "iopub.status.busy": "2022-12-26T00:54:00.322208Z",
     "iopub.status.idle": "2022-12-26T00:54:00.567074Z",
     "shell.execute_reply": "2022-12-26T00:54:00.566398Z",
     "shell.execute_reply.started": "2022-12-26T00:54:00.322869Z"
    },
    "tags": []
   },
   "outputs": [
    {
     "data": {
      "application/vnd.jupyter.widget-view+json": {
       "model_id": "72f8a063124248a786c19d859c91eba7",
       "version_major": 2,
       "version_minor": 0
      },
      "text/plain": [
       "VBox()"
      ]
     },
     "metadata": {},
     "output_type": "display_data"
    },
    {
     "data": {
      "application/vnd.jupyter.widget-view+json": {
       "model_id": "",
       "version_major": 2,
       "version_minor": 0
      },
      "text/plain": [
       "FloatProgress(value=0.0, bar_style='info', description='Progress:', layout=Layout(height='25px', width='50%'),…"
      ]
     },
     "metadata": {},
     "output_type": "display_data"
    }
   ],
   "source": [
    "spark = SparkSession.builder.getOrCreate()"
   ]
  },
  {
   "cell_type": "code",
   "execution_count": 4,
   "id": "4264d23a-53d6-4c1e-8e82-8b49b5dad54e",
   "metadata": {
    "execution": {
     "iopub.execute_input": "2022-12-26T00:54:04.555783Z",
     "iopub.status.busy": "2022-12-26T00:54:04.555460Z",
     "iopub.status.idle": "2022-12-26T00:54:04.912814Z",
     "shell.execute_reply": "2022-12-26T00:54:04.911098Z",
     "shell.execute_reply.started": "2022-12-26T00:54:04.555754Z"
    },
    "tags": []
   },
   "outputs": [
    {
     "data": {
      "application/vnd.jupyter.widget-view+json": {
       "model_id": "d407bb2d94964a158ff2d8128342c748",
       "version_major": 2,
       "version_minor": 0
      },
      "text/plain": [
       "VBox()"
      ]
     },
     "metadata": {},
     "output_type": "display_data"
    },
    {
     "data": {
      "application/vnd.jupyter.widget-view+json": {
       "model_id": "",
       "version_major": 2,
       "version_minor": 0
      },
      "text/plain": [
       "FloatProgress(value=0.0, bar_style='info', description='Progress:', layout=Layout(height='25px', width='50%'),…"
      ]
     },
     "metadata": {},
     "output_type": "display_data"
    }
   ],
   "source": [
    "input_data = \"s3a://udacity-dend/\"\n",
    "output_data = \"s3a://spark-project-output-4/\""
   ]
  },
  {
   "cell_type": "code",
   "execution_count": 5,
   "id": "6a6c2056-0a22-4037-b158-c0ab5e3f8aea",
   "metadata": {
    "execution": {
     "iopub.execute_input": "2022-12-26T00:54:23.474466Z",
     "iopub.status.busy": "2022-12-26T00:54:23.473670Z",
     "iopub.status.idle": "2022-12-26T01:05:29.306818Z",
     "shell.execute_reply": "2022-12-26T01:05:29.305204Z",
     "shell.execute_reply.started": "2022-12-26T00:54:23.474430Z"
    },
    "tags": []
   },
   "outputs": [
    {
     "data": {
      "application/vnd.jupyter.widget-view+json": {
       "model_id": "166fd6af8f814227b8ebceb23b46a3f2",
       "version_major": 2,
       "version_minor": 0
      },
      "text/plain": [
       "VBox()"
      ]
     },
     "metadata": {},
     "output_type": "display_data"
    },
    {
     "data": {
      "application/vnd.jupyter.widget-view+json": {
       "model_id": "",
       "version_major": 2,
       "version_minor": 0
      },
      "text/plain": [
       "FloatProgress(value=0.0, bar_style='info', description='Progress:', layout=Layout(height='25px', width='50%'),…"
      ]
     },
     "metadata": {},
     "output_type": "display_data"
    },
    {
     "name": "stderr",
     "output_type": "stream",
     "text": [
      "'path hdfs://ip-172-31-22-55.ec2.internal:8020/user/livy/songs.parquet already exists.;'\n",
      "Traceback (most recent call last):\n",
      "  File \"<stdin>\", line 22, in process_song_data\n",
      "  File \"/usr/lib/spark/python/lib/pyspark.zip/pyspark/sql/readwriter.py\", line 841, in parquet\n",
      "    self._jwrite.parquet(path)\n",
      "  File \"/usr/lib/spark/python/lib/py4j-0.10.7-src.zip/py4j/java_gateway.py\", line 1257, in __call__\n",
      "    answer, self.gateway_client, self.target_id, self.name)\n",
      "  File \"/usr/lib/spark/python/lib/pyspark.zip/pyspark/sql/utils.py\", line 69, in deco\n",
      "    raise AnalysisException(s.split(': ', 1)[1], stackTrace)\n",
      "pyspark.sql.utils.AnalysisException: 'path hdfs://ip-172-31-22-55.ec2.internal:8020/user/livy/songs.parquet already exists.;'\n",
      "\n"
     ]
    }
   ],
   "source": [
    "def process_song_data(spark, input_data, output_data):\n",
    "    # get filepath to song data file\n",
    "    song_data = input_data + \"/song_data/*/*/*/*\"\n",
    "    \n",
    "    # read song data file\n",
    "    df = spark.read.json(song_data)\n",
    "\n",
    "    # extract columns to create songs table\n",
    "    songs_table = (\n",
    "        df\n",
    "        .select(\n",
    "            \"song_id\",\n",
    "            \"title\",\n",
    "            \"artist_id\",\n",
    "            \"year\",\n",
    "            \"duration\",\n",
    "        )\n",
    "        .distinct()\n",
    "    )\n",
    "    \n",
    "    # write songs table to parquet files partitioned by year and artist\n",
    "    songs_table.write.parquet(output_data + \"songs.parquet\")\n",
    "\n",
    "    # extract columns to create artists table\n",
    "    artists_table = (\n",
    "        df\n",
    "        .select(\n",
    "            \"artist_id\",\n",
    "            F.col(\"artist_name\").alias(\"name\"),\n",
    "            F.col(\"artist_location\").alias(\"location\"),\n",
    "            F.col(\"artist_latitude\").alias(\"latitude\"),\n",
    "            F.col(\"artist_longitude\").alias(\"longitude\"),\n",
    "        )\n",
    "        .distinct()\n",
    "    )\n",
    "    \n",
    "    # write artists table to parquet files\n",
    "    artists_table.write.parquet(output_data + \"artists.parquet\")\n",
    "    \n",
    "    return songs_table\n",
    "\n",
    "\n",
    "\n",
    "df_songs = process_song_data(spark=spark, input_data=input_data, output_data=\"\")\n",
    "df_songs.limit(10).show()"
   ]
  },
  {
   "cell_type": "code",
   "execution_count": 6,
   "id": "72f4449e-20d7-40ed-a2ac-e373e62c3462",
   "metadata": {
    "execution": {
     "iopub.execute_input": "2022-12-26T01:05:29.309490Z",
     "iopub.status.busy": "2022-12-26T01:05:29.308745Z",
     "iopub.status.idle": "2022-12-26T01:05:29.544083Z",
     "shell.execute_reply": "2022-12-26T01:05:29.541472Z",
     "shell.execute_reply.started": "2022-12-26T01:05:29.309445Z"
    },
    "tags": []
   },
   "outputs": [
    {
     "data": {
      "application/vnd.jupyter.widget-view+json": {
       "model_id": "7d0c7101d8d94979bb5843beb81ce54c",
       "version_major": 2,
       "version_minor": 0
      },
      "text/plain": [
       "VBox()"
      ]
     },
     "metadata": {},
     "output_type": "display_data"
    },
    {
     "data": {
      "application/vnd.jupyter.widget-view+json": {
       "model_id": "",
       "version_major": 2,
       "version_minor": 0
      },
      "text/plain": [
       "FloatProgress(value=0.0, bar_style='info', description='Progress:', layout=Layout(height='25px', width='50%'),…"
      ]
     },
     "metadata": {},
     "output_type": "display_data"
    },
    {
     "name": "stderr",
     "output_type": "stream",
     "text": [
      "name 'df_songs' is not defined\n",
      "Traceback (most recent call last):\n",
      "NameError: name 'df_songs' is not defined\n",
      "\n"
     ]
    }
   ],
   "source": [
    "df_songs.printSchema()"
   ]
  },
  {
   "cell_type": "code",
   "execution_count": 7,
   "id": "86996d5c-20c1-46c0-a236-653875d2987d",
   "metadata": {
    "execution": {
     "iopub.execute_input": "2022-12-26T01:05:29.550956Z",
     "iopub.status.busy": "2022-12-26T01:05:29.549823Z",
     "iopub.status.idle": "2022-12-26T01:05:29.831851Z",
     "shell.execute_reply": "2022-12-26T01:05:29.826897Z",
     "shell.execute_reply.started": "2022-12-26T01:05:29.550908Z"
    },
    "tags": []
   },
   "outputs": [
    {
     "data": {
      "application/vnd.jupyter.widget-view+json": {
       "model_id": "ec0723b05efa447aac9e41808f1a7431",
       "version_major": 2,
       "version_minor": 0
      },
      "text/plain": [
       "VBox()"
      ]
     },
     "metadata": {},
     "output_type": "display_data"
    },
    {
     "data": {
      "application/vnd.jupyter.widget-view+json": {
       "model_id": "",
       "version_major": 2,
       "version_minor": 0
      },
      "text/plain": [
       "FloatProgress(value=0.0, bar_style='info', description='Progress:', layout=Layout(height='25px', width='50%'),…"
      ]
     },
     "metadata": {},
     "output_type": "display_data"
    },
    {
     "name": "stderr",
     "output_type": "stream",
     "text": [
      "name 'df_songs' is not defined\n",
      "Traceback (most recent call last):\n",
      "NameError: name 'df_songs' is not defined\n",
      "\n"
     ]
    }
   ],
   "source": [
    "df_songs.count()"
   ]
  },
  {
   "cell_type": "code",
   "execution_count": 8,
   "id": "dcf53a5a-075f-4907-a989-7b8bbcc3931b",
   "metadata": {
    "execution": {
     "iopub.execute_input": "2022-12-26T01:05:29.841254Z",
     "iopub.status.busy": "2022-12-26T01:05:29.836554Z",
     "iopub.status.idle": "2022-12-26T01:05:30.122856Z",
     "shell.execute_reply": "2022-12-26T01:05:30.121869Z",
     "shell.execute_reply.started": "2022-12-26T01:05:29.841195Z"
    },
    "tags": []
   },
   "outputs": [
    {
     "data": {
      "application/vnd.jupyter.widget-view+json": {
       "model_id": "6e3fe54dfb6347adb85c0a58f3be32b5",
       "version_major": 2,
       "version_minor": 0
      },
      "text/plain": [
       "VBox()"
      ]
     },
     "metadata": {},
     "output_type": "display_data"
    },
    {
     "data": {
      "application/vnd.jupyter.widget-view+json": {
       "model_id": "",
       "version_major": 2,
       "version_minor": 0
      },
      "text/plain": [
       "FloatProgress(value=0.0, bar_style='info', description='Progress:', layout=Layout(height='25px', width='50%'),…"
      ]
     },
     "metadata": {},
     "output_type": "display_data"
    }
   ],
   "source": [
    "def process_log_data(spark, input_data, output_data):\n",
    "    # get filepath to log data file\n",
    "    log_data = input_data + \"log_data/*/*\"\n",
    "\n",
    "    # read log data file\n",
    "    df = spark.read.json(log_data)\n",
    "    \n",
    "    # # filter by actions for song plays\n",
    "    df = df.filter(F.col(\"page\") == \"NextSong\")\n",
    "\n",
    "    # extract columns for users table\n",
    "    df = (\n",
    "        df\n",
    "        .withColumnRenamed(\"userId\", \"user_id\")\n",
    "        .withColumnRenamed(\"firstName\", \"first_name\")\n",
    "        .withColumnRenamed(\"lastName\", \"last_name\")\n",
    "    )\n",
    "    users_table = (\n",
    "        df\n",
    "        .select(\n",
    "            \"user_id\",\n",
    "            \"first_name\",\n",
    "            \"last_name\",\n",
    "            \"gender\",\n",
    "            \"level\"\n",
    "        )\n",
    "        .distinct()\n",
    "    )\n",
    "\n",
    "    # write users table to parquet files\n",
    "    users_table.write.parquet(output_data + \"users.parquet\")\n",
    "\n",
    "    # create timestamp column from original timestamp column\n",
    "    df = df.withColumn(\"start_time\", F.to_timestamp(F.col(\"ts\")/1000))\n",
    "    \n",
    "    # # extract columns to create time table\n",
    "    time_table = (\n",
    "        df\n",
    "        .withColumn(\"hour\", F.hour(\"start_time\"))\n",
    "        .withColumn(\"day\", F.dayofmonth(\"start_time\"))\n",
    "        .withColumn(\"week\", F.weekofyear(\"start_time\"))\n",
    "        .withColumn(\"year\", F.year(\"start_time\"))\n",
    "        .withColumn(\"weekday\", (F.dayofweek(\"start_time\") + 6) % 7)\n",
    "        .select(\n",
    "            \"start_time\",\n",
    "            \"hour\",\n",
    "            \"day\",\n",
    "            \"week\",\n",
    "            \"year\",\n",
    "            \"weekday\",\n",
    "        )\n",
    "        .distinct()\n",
    "    )\n",
    "    \n",
    "    # write time table to parquet files partitioned by year and month\n",
    "    time_table.write.parquet(output_data + \"time.parquet\")\n",
    "\n",
    "    # read in song data to use for songplays table\n",
    "    song_df = spark.read.parquet(output_data + \"songs.parquet\")\n",
    "\n",
    "    # extract columns from joined song and log datasets to create songplays table \n",
    "    songplays_table = (\n",
    "        df\n",
    "        .join(\n",
    "            song_df,\n",
    "            [\n",
    "                df[\"song\"] == song_df[\"title\"],\n",
    "                df[\"length\"] == song_df[\"duration\"]\n",
    "            ],\n",
    "            \"left\"\n",
    "        )\n",
    "        .withColumnRenamed(\"sessionId\", \"session_id\")\n",
    "        .withColumnRenamed(\"userAgent\", \"user_agent\")\n",
    "        .withColumn(\"songplay_id\", F.concat_ws(\"-\", F.col(\"session_id\"), F.col(\"ts\").cast(\"string\")))\n",
    "        .select(\n",
    "            \"songplay_id\",\n",
    "            \"start_time\",\n",
    "            \"user_id\",\n",
    "            \"level\",\n",
    "            \"song_id\",\n",
    "            \"artist_id\",\n",
    "            \"session_id\",\n",
    "            \"location\",\n",
    "            \"user_agent\"\n",
    "        )\n",
    "    )\n",
    "\n",
    "    # write songplays table to parquet files partitioned by year and month\n",
    "    songplays_table.write.parquet(output_data + \"songplays.parquet\")\n",
    "    \n",
    "    return songplays_table\n"
   ]
  },
  {
   "cell_type": "code",
   "execution_count": 9,
   "id": "0b88ee31-e4b4-4897-a1e3-f651fe9ee54a",
   "metadata": {
    "execution": {
     "iopub.execute_input": "2022-12-26T01:05:30.125268Z",
     "iopub.status.busy": "2022-12-26T01:05:30.124427Z",
     "iopub.status.idle": "2022-12-26T01:08:30.249078Z",
     "shell.execute_reply": "2022-12-26T01:08:30.247709Z",
     "shell.execute_reply.started": "2022-12-26T01:05:30.125223Z"
    },
    "tags": []
   },
   "outputs": [
    {
     "data": {
      "application/vnd.jupyter.widget-view+json": {
       "model_id": "312b32ea865c4f8cb8b3c05a8bd87982",
       "version_major": 2,
       "version_minor": 0
      },
      "text/plain": [
       "VBox()"
      ]
     },
     "metadata": {},
     "output_type": "display_data"
    },
    {
     "data": {
      "application/vnd.jupyter.widget-view+json": {
       "model_id": "",
       "version_major": 2,
       "version_minor": 0
      },
      "text/plain": [
       "FloatProgress(value=0.0, bar_style='info', description='Progress:', layout=Layout(height='25px', width='50%'),…"
      ]
     },
     "metadata": {},
     "output_type": "display_data"
    },
    {
     "name": "stderr",
     "output_type": "stream",
     "text": [
      "'Path does not exist: s3a://spark-project-output-4/songs.parquet;'\n",
      "Traceback (most recent call last):\n",
      "  File \"<stdin>\", line 59, in process_log_data\n",
      "  File \"/usr/lib/spark/python/lib/pyspark.zip/pyspark/sql/readwriter.py\", line 316, in parquet\n",
      "    return self._df(self._jreader.parquet(_to_seq(self._spark._sc, paths)))\n",
      "  File \"/usr/lib/spark/python/lib/py4j-0.10.7-src.zip/py4j/java_gateway.py\", line 1257, in __call__\n",
      "    answer, self.gateway_client, self.target_id, self.name)\n",
      "  File \"/usr/lib/spark/python/lib/pyspark.zip/pyspark/sql/utils.py\", line 69, in deco\n",
      "    raise AnalysisException(s.split(': ', 1)[1], stackTrace)\n",
      "pyspark.sql.utils.AnalysisException: 'Path does not exist: s3a://spark-project-output-4/songs.parquet;'\n",
      "\n"
     ]
    }
   ],
   "source": [
    "df = process_log_data(spark=spark, input_data=input_data, output_data=output_data)"
   ]
  },
  {
   "cell_type": "code",
   "execution_count": 10,
   "id": "32d667fd-dcb9-472d-b3fc-9721d5c61a0d",
   "metadata": {
    "execution": {
     "iopub.execute_input": "2022-12-26T01:08:30.251610Z",
     "iopub.status.busy": "2022-12-26T01:08:30.250806Z",
     "iopub.status.idle": "2022-12-26T01:08:30.546149Z",
     "shell.execute_reply": "2022-12-26T01:08:30.545138Z",
     "shell.execute_reply.started": "2022-12-26T01:08:30.251531Z"
    },
    "tags": []
   },
   "outputs": [
    {
     "data": {
      "application/vnd.jupyter.widget-view+json": {
       "model_id": "5b39d551e8ca48e6858173ecebff5fa0",
       "version_major": 2,
       "version_minor": 0
      },
      "text/plain": [
       "VBox()"
      ]
     },
     "metadata": {},
     "output_type": "display_data"
    },
    {
     "data": {
      "application/vnd.jupyter.widget-view+json": {
       "model_id": "",
       "version_major": 2,
       "version_minor": 0
      },
      "text/plain": [
       "FloatProgress(value=0.0, bar_style='info', description='Progress:', layout=Layout(height='25px', width='50%'),…"
      ]
     },
     "metadata": {},
     "output_type": "display_data"
    },
    {
     "name": "stderr",
     "output_type": "stream",
     "text": [
      "name 'df' is not defined\n",
      "Traceback (most recent call last):\n",
      "NameError: name 'df' is not defined\n",
      "\n"
     ]
    }
   ],
   "source": [
    "df.count()"
   ]
  },
  {
   "cell_type": "code",
   "execution_count": null,
   "id": "823f6e9c-1569-4307-8dda-9c2b766b63b4",
   "metadata": {},
   "outputs": [],
   "source": []
  }
 ],
 "metadata": {
  "kernelspec": {
   "display_name": "PySpark",
   "language": "",
   "name": "pysparkkernel"
  },
  "language_info": {
   "codemirror_mode": {
    "name": "python",
    "version": 2
   },
   "mimetype": "text/x-python",
   "name": "pyspark",
   "pygments_lexer": "python2"
  }
 },
 "nbformat": 4,
 "nbformat_minor": 5
}
