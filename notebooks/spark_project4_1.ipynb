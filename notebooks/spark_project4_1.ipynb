{
 "cells": [
  {
   "cell_type": "code",
   "execution_count": 1,
   "id": "ab12eb1f-2192-4792-bccb-db2d0fab7746",
   "metadata": {
    "execution": {
     "iopub.execute_input": "2022-12-24T22:09:11.208507Z",
     "iopub.status.busy": "2022-12-24T22:09:11.207762Z",
     "iopub.status.idle": "2022-12-24T22:09:48.290749Z",
     "shell.execute_reply": "2022-12-24T22:09:48.289850Z",
     "shell.execute_reply.started": "2022-12-24T22:09:11.208453Z"
    },
    "tags": []
   },
   "outputs": [
    {
     "data": {
      "application/vnd.jupyter.widget-view+json": {
       "model_id": "fc5054ffd1504cc09d85c8a92bee7b62",
       "version_major": 2,
       "version_minor": 0
      },
      "text/plain": [
       "VBox()"
      ]
     },
     "metadata": {},
     "output_type": "display_data"
    },
    {
     "name": "stdout",
     "output_type": "stream",
     "text": [
      "Starting Spark application\n"
     ]
    },
    {
     "data": {
      "text/html": [
       "<table>\n",
       "<tr><th>ID</th><th>YARN Application ID</th><th>Kind</th><th>State</th><th>Spark UI</th><th>Driver log</th><th>Current session?</th></tr><tr><td>1</td><td>application_1671917920120_0002</td><td>pyspark</td><td>idle</td><td><a target=\"_blank\" href=\"http://ip-172-31-80-246.ec2.internal:20888/proxy/application_1671917920120_0002/\">Link</a></td><td><a target=\"_blank\" href=\"http://ip-172-31-90-188.ec2.internal:8042/node/containerlogs/container_1671917920120_0002_01_000001/livy\">Link</a></td><td>✔</td></tr></table>"
      ],
      "text/plain": [
       "<IPython.core.display.HTML object>"
      ]
     },
     "metadata": {},
     "output_type": "display_data"
    },
    {
     "data": {
      "application/vnd.jupyter.widget-view+json": {
       "model_id": "",
       "version_major": 2,
       "version_minor": 0
      },
      "text/plain": [
       "FloatProgress(value=0.0, bar_style='info', description='Progress:', layout=Layout(height='25px', width='50%'),…"
      ]
     },
     "metadata": {},
     "output_type": "display_data"
    },
    {
     "name": "stdout",
     "output_type": "stream",
     "text": [
      "SparkSession available as 'spark'.\n"
     ]
    },
    {
     "data": {
      "application/vnd.jupyter.widget-view+json": {
       "model_id": "",
       "version_major": 2,
       "version_minor": 0
      },
      "text/plain": [
       "FloatProgress(value=0.0, bar_style='info', description='Progress:', layout=Layout(height='25px', width='50%'),…"
      ]
     },
     "metadata": {},
     "output_type": "display_data"
    }
   ],
   "source": [
    "import configparser\n",
    "from datetime import datetime\n",
    "import os\n",
    "from pyspark.sql import SparkSession\n",
    "from pyspark.sql import functions as F\n",
    "from pyspark.sql.functions import udf, col\n",
    "from pyspark.sql.functions import year, month, dayofmonth, hour, weekofyear, date_format\n",
    "\n",
    "import os\n",
    "import glob\n",
    "import shutil\n",
    "\n",
    "# import pandas as pd\n",
    "# pd.set_option('display.max_rows', 500)\n",
    "# pd.set_option('display.max_columns', 500)\n",
    "# pd.set_option('display.width', 1000)"
   ]
  },
  {
   "cell_type": "code",
   "execution_count": 2,
   "id": "85f16903-b8f0-4105-bd99-b9a090eea2a3",
   "metadata": {
    "execution": {
     "iopub.execute_input": "2022-12-24T22:09:48.298078Z",
     "iopub.status.busy": "2022-12-24T22:09:48.297373Z",
     "iopub.status.idle": "2022-12-24T22:09:48.561692Z",
     "shell.execute_reply": "2022-12-24T22:09:48.560655Z",
     "shell.execute_reply.started": "2022-12-24T22:09:48.298037Z"
    },
    "tags": []
   },
   "outputs": [
    {
     "data": {
      "application/vnd.jupyter.widget-view+json": {
       "model_id": "cb87a791245745d99a52f37f492688cd",
       "version_major": 2,
       "version_minor": 0
      },
      "text/plain": [
       "VBox()"
      ]
     },
     "metadata": {},
     "output_type": "display_data"
    },
    {
     "data": {
      "application/vnd.jupyter.widget-view+json": {
       "model_id": "",
       "version_major": 2,
       "version_minor": 0
      },
      "text/plain": [
       "FloatProgress(value=0.0, bar_style='info', description='Progress:', layout=Layout(height='25px', width='50%'),…"
      ]
     },
     "metadata": {},
     "output_type": "display_data"
    }
   ],
   "source": [
    "# config = configparser.ConfigParser()\n",
    "# config.read('./dl.cfg')\n",
    "\n",
    "# os.environ['AWS_ACCESS_KEY_ID']=config['AWS_ACCESS_KEY_ID']\n",
    "# os.environ['AWS_SECRET_ACCESS_KEY']=config['AWS_SECRET_ACCESS_KEY']"
   ]
  },
  {
   "cell_type": "code",
   "execution_count": 3,
   "id": "d0d4e593-d610-48cc-885c-ee7e14086172",
   "metadata": {
    "execution": {
     "iopub.execute_input": "2022-12-24T22:09:50.669485Z",
     "iopub.status.busy": "2022-12-24T22:09:50.669083Z",
     "iopub.status.idle": "2022-12-24T22:09:50.890449Z",
     "shell.execute_reply": "2022-12-24T22:09:50.889658Z",
     "shell.execute_reply.started": "2022-12-24T22:09:50.669452Z"
    },
    "tags": []
   },
   "outputs": [
    {
     "data": {
      "application/vnd.jupyter.widget-view+json": {
       "model_id": "4f08f702d9874a1c9c2fde0280f385a2",
       "version_major": 2,
       "version_minor": 0
      },
      "text/plain": [
       "VBox()"
      ]
     },
     "metadata": {},
     "output_type": "display_data"
    },
    {
     "data": {
      "application/vnd.jupyter.widget-view+json": {
       "model_id": "",
       "version_major": 2,
       "version_minor": 0
      },
      "text/plain": [
       "FloatProgress(value=0.0, bar_style='info', description='Progress:', layout=Layout(height='25px', width='50%'),…"
      ]
     },
     "metadata": {},
     "output_type": "display_data"
    }
   ],
   "source": [
    "def create_spark_session():\n",
    "    spark = SparkSession \\\n",
    "        .builder \\\n",
    "        .config(\"spark.jars.packages\", \"org.apache.hadoop:hadoop-aws:2.7.0\") \\\n",
    "        .getOrCreate()\n",
    "    return spark"
   ]
  },
  {
   "cell_type": "code",
   "execution_count": 4,
   "id": "9838d338-39ec-40f1-9a4b-e060f69761fd",
   "metadata": {
    "execution": {
     "iopub.execute_input": "2022-12-24T22:09:58.730321Z",
     "iopub.status.busy": "2022-12-24T22:09:58.729947Z",
     "iopub.status.idle": "2022-12-24T22:09:58.920313Z",
     "shell.execute_reply": "2022-12-24T22:09:58.919492Z",
     "shell.execute_reply.started": "2022-12-24T22:09:58.730292Z"
    }
   },
   "outputs": [
    {
     "data": {
      "application/vnd.jupyter.widget-view+json": {
       "model_id": "9827b2bec4924efda83fa17949a8fd41",
       "version_major": 2,
       "version_minor": 0
      },
      "text/plain": [
       "VBox()"
      ]
     },
     "metadata": {},
     "output_type": "display_data"
    },
    {
     "data": {
      "application/vnd.jupyter.widget-view+json": {
       "model_id": "",
       "version_major": 2,
       "version_minor": 0
      },
      "text/plain": [
       "FloatProgress(value=0.0, bar_style='info', description='Progress:', layout=Layout(height='25px', width='50%'),…"
      ]
     },
     "metadata": {},
     "output_type": "display_data"
    }
   ],
   "source": [
    "spark = SparkSession.builder.getOrCreate()"
   ]
  },
  {
   "cell_type": "code",
   "execution_count": 12,
   "id": "4264d23a-53d6-4c1e-8e82-8b49b5dad54e",
   "metadata": {
    "execution": {
     "iopub.execute_input": "2022-12-24T22:22:55.647858Z",
     "iopub.status.busy": "2022-12-24T22:22:55.647527Z",
     "iopub.status.idle": "2022-12-24T22:22:55.820647Z",
     "shell.execute_reply": "2022-12-24T22:22:55.819859Z",
     "shell.execute_reply.started": "2022-12-24T22:22:55.647831Z"
    },
    "tags": []
   },
   "outputs": [
    {
     "data": {
      "application/vnd.jupyter.widget-view+json": {
       "model_id": "6d0f9994b6f742eb996dc974d9b66780",
       "version_major": 2,
       "version_minor": 0
      },
      "text/plain": [
       "VBox()"
      ]
     },
     "metadata": {},
     "output_type": "display_data"
    },
    {
     "data": {
      "application/vnd.jupyter.widget-view+json": {
       "model_id": "",
       "version_major": 2,
       "version_minor": 0
      },
      "text/plain": [
       "FloatProgress(value=0.0, bar_style='info', description='Progress:', layout=Layout(height='25px', width='50%'),…"
      ]
     },
     "metadata": {},
     "output_type": "display_data"
    }
   ],
   "source": [
    "input_data = \"s3a://udacity-dend\""
   ]
  },
  {
   "cell_type": "code",
   "execution_count": 14,
   "id": "6a6c2056-0a22-4037-b158-c0ab5e3f8aea",
   "metadata": {
    "execution": {
     "iopub.execute_input": "2022-12-24T22:30:35.152233Z",
     "iopub.status.busy": "2022-12-24T22:30:35.151778Z",
     "iopub.status.idle": "2022-12-24T22:45:15.119085Z",
     "shell.execute_reply": "2022-12-24T22:45:15.115703Z",
     "shell.execute_reply.started": "2022-12-24T22:30:35.152198Z"
    },
    "tags": []
   },
   "outputs": [
    {
     "data": {
      "application/vnd.jupyter.widget-view+json": {
       "model_id": "dd156abaf5c644f0bd2ef24282ad7b39",
       "version_major": 2,
       "version_minor": 0
      },
      "text/plain": [
       "VBox()"
      ]
     },
     "metadata": {},
     "output_type": "display_data"
    },
    {
     "data": {
      "application/vnd.jupyter.widget-view+json": {
       "model_id": "",
       "version_major": 2,
       "version_minor": 0
      },
      "text/plain": [
       "FloatProgress(value=0.0, bar_style='info', description='Progress:', layout=Layout(height='25px', width='50%'),…"
      ]
     },
     "metadata": {},
     "output_type": "display_data"
    },
    {
     "name": "stdout",
     "output_type": "stream",
     "text": [
      "+------------------+--------------------+------------------+----+---------+\n",
      "|           song_id|               title|         artist_id|year| duration|\n",
      "+------------------+--------------------+------------------+----+---------+\n",
      "|SOHQZIB12A6D4F9FAF|N****_ What's Up ...|ARWAFY51187FB5C4EF|2006|196.85832|\n",
      "|SOQWBCS12A58A7C2C3|         Train Track|ARV62991187B99DE55|2007|168.64608|\n",
      "|SOOQCOC12A8C132A5A|Heavy On My Mind ...|AR531IG1187FB59B35|2007|319.84281|\n",
      "|SOVEHRU12AB017CEE6|Tomorrow We Sail ...|AR2LRXK1187FB593DD|   0|324.85832|\n",
      "|SONWUEN12AB018329C|     Welcome (instr)|AR6OQLJ1187B9B032E|   0|189.17832|\n",
      "|SOFZZKJ12A6701D935| Never Saw It Coming|ARDAHWH1187FB4B0E7|2002|199.67955|\n",
      "|SOHWVJJ12AB0185F6D|Fool For Your Loving|ARASYMJ1187B9ACAF2|1980| 250.3571|\n",
      "|SOKLCOF12A8C134657|   Calling Dr Zarkov|AR2RVGR1187B9B3219|   0|272.01261|\n",
      "|SOXZYLC12AB0185E8A|     Rapture Or Pain|AR8B0641187B990BB2|1994|305.29261|\n",
      "|SOVQFJC12A6D4F74C5|         Alright Now|ARDD4NI1187B9AD333|1990|259.34322|\n",
      "+------------------+--------------------+------------------+----+---------+"
     ]
    }
   ],
   "source": [
    "def process_song_data(spark, input_data, output_data):\n",
    "    # get filepath to song data file\n",
    "    song_data = input_data + \"/song_data/*/*/*/*\"\n",
    "    \n",
    "    # read song data file\n",
    "    df = spark.read.json(song_data)\n",
    "\n",
    "    # extract columns to create songs table\n",
    "    songs_table = (\n",
    "        df\n",
    "        .select(\n",
    "            \"song_id\",\n",
    "            \"title\",\n",
    "            \"artist_id\",\n",
    "            \"year\",\n",
    "            \"duration\",\n",
    "        )\n",
    "        .distinct()\n",
    "    )\n",
    "    \n",
    "    # write songs table to parquet files partitioned by year and artist\n",
    "    # songs_table.write.parquet(output_data + \"songs.parquet\")\n",
    "\n",
    "    # extract columns to create artists table\n",
    "    artists_table = (\n",
    "        df\n",
    "        .select(\n",
    "            \"artist_id\",\n",
    "            F.col(\"artist_name\").alias(\"name\"),\n",
    "            F.col(\"artist_location\").alias(\"location\"),\n",
    "            F.col(\"artist_latitude\").alias(\"latitude\"),\n",
    "            F.col(\"artist_longitude\").alias(\"longitude\"),\n",
    "        )\n",
    "        .distinct()\n",
    "    )\n",
    "    \n",
    "    # write artists table to parquet files\n",
    "    # artists_table.write.parquet(output_data + \"artists.parquet\")\n",
    "    \n",
    "    return songs_table\n",
    "\n",
    "\n",
    "\n",
    "df_songs = process_song_data(spark=spark, input_data=input_data, output_data=\"\")\n",
    "df_songs.limit(10).show()"
   ]
  },
  {
   "cell_type": "code",
   "execution_count": 15,
   "id": "72f4449e-20d7-40ed-a2ac-e373e62c3462",
   "metadata": {
    "execution": {
     "iopub.execute_input": "2022-12-24T22:45:45.211275Z",
     "iopub.status.busy": "2022-12-24T22:45:45.210935Z",
     "iopub.status.idle": "2022-12-24T22:45:45.416513Z",
     "shell.execute_reply": "2022-12-24T22:45:45.415413Z",
     "shell.execute_reply.started": "2022-12-24T22:45:45.211246Z"
    },
    "tags": []
   },
   "outputs": [
    {
     "data": {
      "application/vnd.jupyter.widget-view+json": {
       "model_id": "532155ac04654b3b8a28a23b4ce2d16d",
       "version_major": 2,
       "version_minor": 0
      },
      "text/plain": [
       "VBox()"
      ]
     },
     "metadata": {},
     "output_type": "display_data"
    },
    {
     "data": {
      "application/vnd.jupyter.widget-view+json": {
       "model_id": "",
       "version_major": 2,
       "version_minor": 0
      },
      "text/plain": [
       "FloatProgress(value=0.0, bar_style='info', description='Progress:', layout=Layout(height='25px', width='50%'),…"
      ]
     },
     "metadata": {},
     "output_type": "display_data"
    },
    {
     "name": "stdout",
     "output_type": "stream",
     "text": [
      "root\n",
      " |-- song_id: string (nullable = true)\n",
      " |-- title: string (nullable = true)\n",
      " |-- artist_id: string (nullable = true)\n",
      " |-- year: long (nullable = true)\n",
      " |-- duration: double (nullable = true)"
     ]
    }
   ],
   "source": [
    "df_songs.printSchema()"
   ]
  },
  {
   "cell_type": "code",
   "execution_count": 16,
   "id": "86996d5c-20c1-46c0-a236-653875d2987d",
   "metadata": {
    "execution": {
     "iopub.execute_input": "2022-12-24T22:45:52.416002Z",
     "iopub.status.busy": "2022-12-24T22:45:52.415616Z",
     "iopub.status.idle": "2022-12-24T22:49:16.955691Z",
     "shell.execute_reply": "2022-12-24T22:49:16.952732Z",
     "shell.execute_reply.started": "2022-12-24T22:45:52.415959Z"
    },
    "tags": []
   },
   "outputs": [
    {
     "data": {
      "application/vnd.jupyter.widget-view+json": {
       "model_id": "6469b45ad74b481caf9229c8498b95b0",
       "version_major": 2,
       "version_minor": 0
      },
      "text/plain": [
       "VBox()"
      ]
     },
     "metadata": {},
     "output_type": "display_data"
    },
    {
     "data": {
      "application/vnd.jupyter.widget-view+json": {
       "model_id": "",
       "version_major": 2,
       "version_minor": 0
      },
      "text/plain": [
       "FloatProgress(value=0.0, bar_style='info', description='Progress:', layout=Layout(height='25px', width='50%'),…"
      ]
     },
     "metadata": {},
     "output_type": "display_data"
    },
    {
     "name": "stdout",
     "output_type": "stream",
     "text": [
      "14896"
     ]
    }
   ],
   "source": [
    "df_songs.count()"
   ]
  },
  {
   "cell_type": "code",
   "execution_count": null,
   "id": "b48a9ed7-be43-4682-9aa7-3ac0581ae6fb",
   "metadata": {
    "execution": {
     "iopub.execute_input": "2022-12-24T22:57:07.852171Z",
     "iopub.status.busy": "2022-12-24T22:57:07.851844Z"
    }
   },
   "outputs": [
    {
     "data": {
      "application/vnd.jupyter.widget-view+json": {
       "model_id": "d2600a9eb34b4c55b538cbf63d7f2ea5",
       "version_major": 2,
       "version_minor": 0
      },
      "text/plain": [
       "VBox()"
      ]
     },
     "metadata": {},
     "output_type": "display_data"
    },
    {
     "data": {
      "application/vnd.jupyter.widget-view+json": {
       "model_id": "8c1e9af7033a4808b33cdba9c4338612",
       "version_major": 2,
       "version_minor": 0
      },
      "text/plain": [
       "FloatProgress(value=0.0, bar_style='info', description='Progress:', layout=Layout(height='25px', width='50%'),…"
      ]
     },
     "metadata": {},
     "output_type": "display_data"
    }
   ],
   "source": [
    "(\n",
    "    df_songs\n",
    "    .write\n",
    "    .parquet(\"s3a://spark-project-output-1/songs.parquet\")\n",
    ")"
   ]
  },
  {
   "cell_type": "code",
   "execution_count": null,
   "id": "dcf53a5a-075f-4907-a989-7b8bbcc3931b",
   "metadata": {},
   "outputs": [],
   "source": []
  },
  {
   "cell_type": "code",
   "execution_count": null,
   "id": "0b88ee31-e4b4-4897-a1e3-f651fe9ee54a",
   "metadata": {},
   "outputs": [],
   "source": []
  }
 ],
 "metadata": {
  "kernelspec": {
   "display_name": "PySpark",
   "language": "",
   "name": "pysparkkernel"
  },
  "language_info": {
   "codemirror_mode": {
    "name": "python",
    "version": 2
   },
   "mimetype": "text/x-python",
   "name": "pyspark",
   "pygments_lexer": "python2"
  }
 },
 "nbformat": 4,
 "nbformat_minor": 5
}
